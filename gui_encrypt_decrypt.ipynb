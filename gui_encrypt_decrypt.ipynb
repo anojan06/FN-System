{
 "cells": [
  {
   "cell_type": "code",
   "execution_count": 28,
   "id": "36aa6ff9-6846-491e-b176-89cd09ac1c74",
   "metadata": {
    "tags": []
   },
   "outputs": [],
   "source": [
    "import tkinter as tk\n",
    "import tkinter.font as tkfont\n",
    "from tkinter import *\n",
    "from tkinter.ttk import *"
   ]
  },
  {
   "cell_type": "code",
   "execution_count": 29,
   "id": "6fa2303d-8521-4c9d-8291-a5a529a36489",
   "metadata": {
    "tags": []
   },
   "outputs": [],
   "source": [
    "\n",
    "root = tk.Tk()"
   ]
  },
  {
   "cell_type": "code",
   "execution_count": 30,
   "id": "516216d6-3131-4f13-818b-8c5dd6772704",
   "metadata": {
    "tags": []
   },
   "outputs": [
    {
     "data": {
      "text/plain": [
       "''"
      ]
     },
     "execution_count": 30,
     "metadata": {},
     "output_type": "execute_result"
    }
   ],
   "source": [
    "# To set the dimensions of the window\n",
    "root.geometry(\"400x500\") # width x height\n",
    "# To set whether we can resize the window or not.The below line doesn't allow the resizing of the window.\n",
    "root.resizable(width=FALSE, height=FALSE)"
   ]
  },
  {
   "cell_type": "code",
   "execution_count": null,
   "id": "81b15ae0-c372-484f-85a7-755982732735",
   "metadata": {
    "tags": []
   },
   "outputs": [],
   "source": []
  },
  {
   "cell_type": "code",
   "execution_count": 31,
   "id": "5ea70161-039b-456d-bdba-9310465f612c",
   "metadata": {
    "tags": []
   },
   "outputs": [],
   "source": [
    "# Creating a canvas \n",
    "canvas = tk.Canvas(root,height = 500, width=400, bg=\"MediumPurple1\")\n",
    "# Attaching the canvas\n",
    "canvas.pack()"
   ]
  },
  {
   "cell_type": "code",
   "execution_count": 32,
   "id": "9e5b541e-3659-4573-9daa-b38d6054afb2",
   "metadata": {
    "tags": []
   },
   "outputs": [],
   "source": [
    "# Set the family,size and style of the font\n",
    "bold_font = tkfont.Font(family=\"Helvetica\",size=12,weight=\"bold\")"
   ]
  },
  {
   "cell_type": "code",
   "execution_count": 33,
   "id": "b7a8e134-f89f-41ee-8ffd-edd891bd2f28",
   "metadata": {
    "tags": []
   },
   "outputs": [
    {
     "data": {
      "text/plain": [
       "1"
      ]
     },
     "execution_count": 33,
     "metadata": {},
     "output_type": "execute_result"
    }
   ],
   "source": [
    "# Creating a label with a text and attaching it to the root\n",
    "label1 = tk.Label(root,text= \"Enter the Text\",width=20,bg=\"MediumPurple1\")\n",
    "# adding the font features to the label\n",
    "label1.config(font=bold_font)\n",
    "# placing the label in the canvas\n",
    "canvas.create_window(200,100,window=label1)"
   ]
  },
  {
   "cell_type": "code",
   "execution_count": 34,
   "id": "c79b59c2-d225-4861-95c9-d40290e628ed",
   "metadata": {
    "tags": []
   },
   "outputs": [
    {
     "data": {
      "text/plain": [
       "2"
      ]
     },
     "execution_count": 34,
     "metadata": {},
     "output_type": "execute_result"
    }
   ],
   "source": [
    "# Text Area \n",
    "user_text = tk.Entry(root)\n",
    "canvas.create_window(200,150,window=user_text)"
   ]
  },
  {
   "cell_type": "code",
   "execution_count": 35,
   "id": "4320a48f-e212-41de-b3a7-191b51121d56",
   "metadata": {
    "tags": []
   },
   "outputs": [
    {
     "data": {
      "text/plain": [
       "3"
      ]
     },
     "execution_count": 35,
     "metadata": {},
     "output_type": "execute_result"
    }
   ],
   "source": [
    "# Creating a label with a text and attaching it to the root\n",
    "label2=tk.Label(root,text=\"Choose an Operation\",width=25,bg=\"MediumPurple1\")\n",
    "# adding the font features to the label\n",
    "label2.config(font=bold_font)\n",
    "# placing the label in the canvas\n",
    "canvas.create_window(200,200,window=label2)"
   ]
  },
  {
   "cell_type": "code",
   "execution_count": 36,
   "id": "e557dc5b-aebe-4956-93a0-241ab1967580",
   "metadata": {
    "tags": []
   },
   "outputs": [],
   "source": [
    "# Tkinter Variable \n",
    "v = tk.IntVar()"
   ]
  },
  {
   "cell_type": "code",
   "execution_count": 37,
   "id": "8b21052b-e3ed-4d7c-ae61-ec67218671d1",
   "metadata": {
    "tags": []
   },
   "outputs": [],
   "source": [
    "# Defined a function choice\n",
    "def choice():\n",
    "  # Retrieve the value of the radio button\n",
    "    x = v.get()\n",
    "  # Performs Encryption if the value is 1 else performs Decryption.\n",
    "    if(x==1):\n",
    "        encryption()\n",
    "    elif(x==2):\n",
    "        decryption()"
   ]
  },
  {
   "cell_type": "code",
   "execution_count": 38,
   "id": "fffa9ef3-55f1-498e-8b2b-255eccd07b6d",
   "metadata": {
    "tags": []
   },
   "outputs": [],
   "source": [
    "# Defined a function Encryption\n",
    "def encryption():\n",
    "  # Get the user entered text to get function and store it in a variable plain_text\n",
    "    plain_text = user_text.get()\n",
    "  # To store the result   \n",
    "    cipher_text = \"\"\n",
    "  # Number of shift to be performed. For Caesar Cipher it's 3\n",
    "    key = 3\n",
    "  # traversing the text\n",
    "    for i in range(len(plain_text)):\n",
    "        letter = plain_text[i]\n",
    "  # UpperCase Condition\n",
    "        if(letter.isupper()):\n",
    "            cipher_text+=chr((ord(letter)+key-65)%26+65)\n",
    "        else:\n",
    "  # LowerCase Condition\n",
    "            cipher_text+=chr((ord(letter)+key-97)%26+97)\n",
    "  # Creating a label with a text and attaching it to the root       \n",
    "    label3 =tk.Label(root,text=cipher_text,width=20,bg=\"MediumPurple1\")\n",
    "  # adding the font features to the label\n",
    "    label3.config(font=bold_font)\n",
    "  # placing the label in the canvas\n",
    "    canvas.create_window(200,350,window=label3)"
   ]
  },
  {
   "cell_type": "code",
   "execution_count": 39,
   "id": "617a5e4c-b13d-44bd-969d-9632f624bc60",
   "metadata": {
    "tags": []
   },
   "outputs": [],
   "source": [
    "# Defined a function Decryption\n",
    "def decryption():\n",
    "  # Get the user entered text to get function and store it in a varaible cipher_text\n",
    "    cipher_text = user_text.get()\n",
    "  # To store the result\n",
    "    plain_text = \"\"\n",
    "  # Number of shifts to be performed. For Caesar Cipher it's 3.\n",
    "    key = 3\n",
    "  # Traversing the text\n",
    "    for i in range(len(cipher_text)):\n",
    "        letter = cipher_text[i]\n",
    "  # Uppercase condition\n",
    "        if(letter.isupper()):\n",
    "            plain_text+=chr((ord(letter)-key-65)%26+65)\n",
    "        else:\n",
    "  # Lowercase condition\n",
    "            plain_text+=chr((ord(letter)-key-97)%26+97) \n",
    "  # Creating a label with a text and attaching it to the root\n",
    "    label4 =tk.Label(root,text=plain_text,width=20,bg=\"MediumPurple1\")\n",
    "  # Adding the font features to the label\n",
    "    label4.config(font=bold_font)\n",
    "  # Placing the label in the canvas\n",
    "    canvas.create_window(200,350,window=label4)"
   ]
  },
  {
   "cell_type": "code",
   "execution_count": 40,
   "id": "962e9009-b6d3-4a3c-b624-f009ac7575f0",
   "metadata": {
    "tags": []
   },
   "outputs": [
    {
     "data": {
      "text/plain": [
       "5"
      ]
     },
     "execution_count": 40,
     "metadata": {},
     "output_type": "execute_result"
    }
   ],
   "source": [
    "# Radio Button for Encryption \n",
    "label5=tk.Radiobutton(root, text=\"Encryption\",padx = 20, variable=v, value=1,command=choice,bg=\"MediumPurple1\")\n",
    "label5.config(font=bold_font)\n",
    "canvas.create_window(100,250,window=label5)\n",
    "# Radio Button for Decryption\n",
    "label6=tk.Radiobutton(root, text=\"Decryption\",padx = 20, variable=v, value=2,command=choice,bg=\"MediumPurple1\")\n",
    "label6.config(font=bold_font)\n",
    "canvas.create_window(300,250,window=label6)"
   ]
  },
  {
   "cell_type": "code",
   "execution_count": 41,
   "id": "25c2d037-ff4b-43f5-a49c-89443fa2439b",
   "metadata": {
    "tags": []
   },
   "outputs": [
    {
     "data": {
      "text/plain": [
       "6"
      ]
     },
     "execution_count": 41,
     "metadata": {},
     "output_type": "execute_result"
    }
   ],
   "source": [
    "# Creating a label with a text and attaching it to the root\n",
    "label7 =tk.Label(root,text=\"Converted Text \",width=20,bg=\"MediumPurple1\")\n",
    "# adding the font features to the label\n",
    "label7.config(font=bold_font)\n",
    "# placing the label in the canvas\n",
    "canvas.create_window(200,300,window=label7)"
   ]
  },
  {
   "cell_type": "code",
   "execution_count": 42,
   "id": "116e3aae-0e47-4f75-bff7-8995cf5466df",
   "metadata": {
    "tags": []
   },
   "outputs": [],
   "source": [
    "root.mainloop()"
   ]
  },
  {
   "cell_type": "code",
   "execution_count": null,
   "id": "39cfd7d1-f242-4833-a22f-fdba81d6be5c",
   "metadata": {},
   "outputs": [],
   "source": []
  }
 ],
 "metadata": {
  "kernelspec": {
   "display_name": "Python 3 (ipykernel)",
   "language": "python",
   "name": "python3"
  },
  "language_info": {
   "codemirror_mode": {
    "name": "ipython",
    "version": 3
   },
   "file_extension": ".py",
   "mimetype": "text/x-python",
   "name": "python",
   "nbconvert_exporter": "python",
   "pygments_lexer": "ipython3",
   "version": "3.11.5"
  }
 },
 "nbformat": 4,
 "nbformat_minor": 5
}
